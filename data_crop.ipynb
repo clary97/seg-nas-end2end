{
 "cells": [
  {
   "cell_type": "code",
   "execution_count": 27,
   "metadata": {},
   "outputs": [],
   "source": [
    "import os\n",
    "import pandas as pd"
   ]
  },
  {
   "cell_type": "markdown",
   "metadata": {},
   "source": [
    "### Load image files"
   ]
  },
  {
   "cell_type": "code",
   "execution_count": 37,
   "metadata": {},
   "outputs": [],
   "source": [
    "root_folder = \"D:/hyundai/dataset/data/original/2024\"\n",
    "\n",
    "names = [\"DF\", \"CE\", \"GN7 일반\", \"GN7 파노라마\", \"ME 일반\"]\n",
    "file_path = {name: [] for name in names}\n",
    "\n",
    "for folder_name, subfolders, filenames in os.walk(root_folder):\n",
    "    for filename in filenames:\n",
    "        if filename.lower().endswith('.jpg'):\n",
    "            full_path = os.path.join(folder_name, filename)\n",
    "            for name in names:\n",
    "                if name in full_path:\n",
    "                    file_path[name].append(full_path)"
   ]
  },
  {
   "cell_type": "code",
   "execution_count": 42,
   "metadata": {},
   "outputs": [
    {
     "name": "stdout",
     "output_type": "stream",
     "text": [
      "DF: 563135 paths\n",
      "CE: 132788 paths\n",
      "GN7 일반: 303141 paths\n",
      "GN7 파노라마: 79884 paths\n",
      "ME 일반: 132 paths\n",
      "total number of data :  1079080\n"
     ]
    }
   ],
   "source": [
    "total_data = 0\n",
    "\n",
    "for name, paths in file_path.items():\n",
    "    print(f\"{name}: {len(paths)} paths\")\n",
    "    total_data += len(paths)\n",
    "\n",
    "print(\"total number of data : \", total_data)"
   ]
  },
  {
   "cell_type": "markdown",
   "metadata": {},
   "source": [
    "### Load ROI csv files"
   ]
  },
  {
   "cell_type": "code",
   "execution_count": 41,
   "metadata": {},
   "outputs": [],
   "source": [
    "csv_root_folder = \"D:/hyundai/dataset/data/roi\"\n",
    "\n",
    "csv_file_dict = {\n",
    "    \"DF\": \"02_ROIprofile.csv\",\n",
    "    \"CE\": \"03_ROIprofile.csv\",\n",
    "    \"GN7 일반\": \"05_ROIprofile.csv\",\n",
    "    \"GN7 파노라마\": \"06_ROIprofile.csv\",\n",
    "    \"ME 일반\": \"07_ROIprofile.csv\",\n",
    "}\n",
    "roi_dfs = {}\n",
    "\n",
    "for folder_name, _, filenames in os.walk(csv_root_folder):\n",
    "    for filename in filenames:\n",
    "        if filename.lower().endswith('.csv'):\n",
    "            full_path = os.path.join(folder_name, filename)\n",
    "            for name in names:\n",
    "                if csv_file_dict[name] in full_path:\n",
    "                    roi_dfs[name] = pd.read_csv(full_path, header=None)"
   ]
  },
  {
   "cell_type": "code",
   "execution_count": 43,
   "metadata": {},
   "outputs": [
    {
     "data": {
      "text/plain": [
       "{'DF':    0    1    2    3    4    5    6    7    8    9    ...  286  287  288  289  \\\n",
       " 0  368  226  394  226  394  260  368  260  608  389  ...    0    0    0    0   \n",
       " 1  314   93  416  111  402  191  300  173  302  118  ...  280  199  280  117   \n",
       " 2  366  116  435  193  374  248  305  171  392  101  ...    0    0    0    0   \n",
       " 3  357  114  426  191  365  246  296  169  392  101  ...    0    0    0    0   \n",
       " \n",
       "    290  291  292  293  294  295  \n",
       " 0    0    0    0    0    0    0  \n",
       " 1  384  117  384  199  280  199  \n",
       " 2    0    0    0    0    0    0  \n",
       " 3    0    0    0    0    0    0  \n",
       " \n",
       " [4 rows x 296 columns],\n",
       " 'CE':    0    1    2    3    4    5    6    7    8    9    ...  406  407  408  409  \\\n",
       " 0  323  270  351  202  409  227  381  295  617  419  ...    0    0    0    0   \n",
       " 1  485  190  488  297  400  300  397  193  485  190  ...    0    0    0    0   \n",
       " 2  518  202  518  308  430  308  430  202  518  202  ...    0    0    0    0   \n",
       " 3  542  326  543  326  543  328  542  328    0    0  ...    0    0    0    0   \n",
       " 4  612  448  616  448  616  448  612  448  293  103  ...  288  188  308  102   \n",
       " \n",
       "    410  411  412  413  414  415  \n",
       " 0    0    0    0    0    0    0  \n",
       " 1    0    0    0    0    0    0  \n",
       " 2    0    0    0    0    0    0  \n",
       " 3    0    0    0    0    0    0  \n",
       " 4  425  129  405  215  288  188  \n",
       " \n",
       " [5 rows x 416 columns],\n",
       " 'GN7 일반':    0    1    2    3    4    5    6    7    8    9    ...  382  383  384  385  \\\n",
       " 0    0    0    0    0    0    0    0    0  613  443  ...    0    0    0    0   \n",
       " 1    0    0    0    0    0    0    0    0    0    0  ...  382  111  394  170   \n",
       " 2  299  206  378  156  428  235  349  285  442  264  ...    0    0    0    0   \n",
       " \n",
       "    386  387  388  389  390  391  \n",
       " 0    0    0    0    0    0    0  \n",
       " 1  282  190  266  102  378   82  \n",
       " 2    0    0    0    0    0    0  \n",
       " \n",
       " [3 rows x 392 columns],\n",
       " 'GN7 파노라마':    0    1    2    3    4    5    6    7    8    9    ...  382  383  384  385  \\\n",
       " 0    0    0    0    0    0    0    0    0    0    0  ...    0    0    0    0   \n",
       " 1    0    0    0    0    0    0    0    0    0    0  ...  385  108  407  192   \n",
       " 2  406  264  342  179  412  127  476  212  438  290  ...    0    0    0    0   \n",
       " 3  387  288  368  195  474  174  493  267  473  185  ...    0    0    0    0   \n",
       " \n",
       "    386  387  388  389  390  391  \n",
       " 0    0    0    0    0    0    0  \n",
       " 1  305  219  283  135  385  108  \n",
       " 2    0    0    0    0    0    0  \n",
       " 3    0    0    0    0    0    0  \n",
       " \n",
       " [4 rows x 392 columns],\n",
       " 'ME 일반':    0    1    2    3    4    5    6    7    8    9    ...  302  303  304  305  \\\n",
       " 0    0    0    0    0    0    0    0    0    0    0  ...    0    0    0    0   \n",
       " 1  453  104  510  196  435  243  378  151  453  104  ...  291  177  278   78   \n",
       " 2  278   78  402   70  408  162  284  170  278   78  ...    0    0    0    0   \n",
       " 3  634  404  647  404  647  404  634  404  420  261  ...    0    0    0    0   \n",
       " 4  421  235  308  161  362   77  475  151  421  235  ...    0    0    0    0   \n",
       " \n",
       "    306  307  308  309  310  311  \n",
       " 0    0    0    0    0    0    0  \n",
       " 1  402   70  408  162  284  170  \n",
       " 2    0    0    0    0    0    0  \n",
       " 3    0    0    0    0    0    0  \n",
       " 4    0    0    0    0    0    0  \n",
       " \n",
       " [5 rows x 312 columns]}"
      ]
     },
     "execution_count": 43,
     "metadata": {},
     "output_type": "execute_result"
    }
   ],
   "source": [
    "roi_dfs"
   ]
  },
  {
   "cell_type": "code",
   "execution_count": 123,
   "metadata": {},
   "outputs": [],
   "source": [
    "image_indexes = {}\n",
    "\n",
    "for name, df in roi_dfs.items():\n",
    "    row_count = []\n",
    "    \n",
    "    max_len = len(df.iloc[0])\n",
    "    max_count = int((max_len)/8)\n",
    "\n",
    "    for _, row in df.iterrows():\n",
    "        count = 0\n",
    "\n",
    "        for idx in range(max_len, 0, -8):  # 마지막 인덱스에서 시작하여 8개씩 거슬러 올라갑니다.\n",
    "            section_start = max(0, idx-8)  # 섹션 시작점 (0보다 작아지지 않도록 조정)\n",
    "            row_val = row[section_start:idx]\n",
    "\n",
    "            if all(val == 0 for val in row_val):\n",
    "                count += 1  # 모든 값이 0인 경우, 카운트 증가\n",
    "            else:\n",
    "                break  # 하나라도 0이 아닌 값이 있으면 반복 중단\n",
    "\n",
    "        row_count.append(max_count - count)\n",
    "\n",
    "    image_indexes[name] = row_count"
   ]
  },
  {
   "cell_type": "code",
   "execution_count": 124,
   "metadata": {},
   "outputs": [
    {
     "name": "stdout",
     "output_type": "stream",
     "text": [
      "DF: [30, 37, 6, 7]\n",
      "CE: [7, 8, 30, 6, 52]\n",
      "GN7 일반: [40, 49, 21]\n",
      "GN7 파노라마: [40, 49, 20, 7]\n",
      "ME 일반: [22, 39, 23, 36, 11]\n"
     ]
    }
   ],
   "source": [
    "# 결과 출력\n",
    "for name, indexes in image_indexes.items():\n",
    "    print(f\"{name}: {indexes}\")"
   ]
  },
  {
   "cell_type": "markdown",
   "metadata": {},
   "source": [
    "### Crop Image"
   ]
  },
  {
   "cell_type": "code",
   "execution_count": null,
   "metadata": {},
   "outputs": [],
   "source": []
  }
 ],
 "metadata": {
  "kernelspec": {
   "display_name": "lab",
   "language": "python",
   "name": "python3"
  },
  "language_info": {
   "codemirror_mode": {
    "name": "ipython",
    "version": 3
   },
   "file_extension": ".py",
   "mimetype": "text/x-python",
   "name": "python",
   "nbconvert_exporter": "python",
   "pygments_lexer": "ipython3",
   "version": "3.8.5"
  }
 },
 "nbformat": 4,
 "nbformat_minor": 2
}
